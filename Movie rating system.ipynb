{
 "cells": [
  {
   "cell_type": "code",
   "execution_count": 61,
   "id": "7c7ebb39",
   "metadata": {
    "scrolled": true
   },
   "outputs": [
    {
     "data": {
      "text/plain": [
       "1000"
      ]
     },
     "metadata": {},
     "output_type": "display_data"
    }
   ],
   "source": [
    "import numpy as np\n",
    "import random\n",
    "import warnings\n",
    "warnings.filterwarnings(\"ignore\")\n",
    "movie_id=np.arange(1301,2301)\n",
    "display(movie_id.size)"
   ]
  },
  {
   "cell_type": "code",
   "execution_count": 62,
   "id": "024e3549",
   "metadata": {},
   "outputs": [
    {
     "data": {
      "text/plain": [
       "100"
      ]
     },
     "metadata": {},
     "output_type": "display_data"
    },
    {
     "data": {
      "text/plain": [
       "array([20201, 20202, 20203, 20204, 20205, 20206, 20207, 20208, 20209,\n",
       "       20210, 20211, 20212, 20213, 20214, 20215, 20216, 20217, 20218,\n",
       "       20219, 20220, 20221, 20222, 20223, 20224, 20225, 20226, 20227,\n",
       "       20228, 20229, 20230, 20231, 20232, 20233, 20234, 20235, 20236,\n",
       "       20237, 20238, 20239, 20240, 20241, 20242, 20243, 20244, 20245,\n",
       "       20246, 20247, 20248, 20249, 20250, 20251, 20252, 20253, 20254,\n",
       "       20255, 20256, 20257, 20258, 20259, 20260, 20261, 20262, 20263,\n",
       "       20264, 20265, 20266, 20267, 20268, 20269, 20270, 20271, 20272,\n",
       "       20273, 20274, 20275, 20276, 20277, 20278, 20279, 20280, 20281,\n",
       "       20282, 20283, 20284, 20285, 20286, 20287, 20288, 20289, 20290,\n",
       "       20291, 20292, 20293, 20294, 20295, 20296, 20297, 20298, 20299,\n",
       "       20300])"
      ]
     },
     "metadata": {},
     "output_type": "display_data"
    }
   ],
   "source": [
    "# creating user id for movies:\n",
    "\n",
    "user_id=[]\n",
    "for i in range(20201,20301):\n",
    "    user_id.append(i)\n",
    "user_id=np.array(user_id)\n",
    "display(user_id.size)\n",
    "display(user_id)"
   ]
  },
  {
   "cell_type": "code",
   "execution_count": 63,
   "id": "14a97d91",
   "metadata": {},
   "outputs": [
    {
     "data": {
      "text/plain": [
       "100"
      ]
     },
     "execution_count": 63,
     "metadata": {},
     "output_type": "execute_result"
    }
   ],
   "source": [
    "# creating movie matrix to store user ratings:\n",
    "movie_matrix=[]\n",
    "for user in range(100):\n",
    "    movies_rated_by_me=np.full(1000,-1)\n",
    "    num_movies_rated=random.randint(0,999)\n",
    "    movies_that_rate=random.sample(range(0,1000),num_movies_rated)\n",
    "    for index in movies_that_rate:\n",
    "        movies_rated_by_me[index]=random.randint(0,10)\n",
    "    movie_matrix.append(movies_rated_by_me)\n",
    "movie_matrix=np.array(movie_matrix)\n",
    "len(movie_matrix)"
   ]
  },
  {
   "cell_type": "code",
   "execution_count": 64,
   "id": "64a1d558",
   "metadata": {},
   "outputs": [
    {
     "name": "stdout",
     "output_type": "stream",
     "text": [
      "[[-1 -1 -1 ... -1 -1 -1]\n",
      " [ 2  5  5 ...  1  9  0]\n",
      " [-1 -1  0 ... -1  4 -1]\n",
      " ...\n",
      " [ 4  7  5 ...  1  8  9]\n",
      " [ 3  5 -1 ...  8 -1  2]\n",
      " [-1 -1 -1 ... -1  0 -1]]\n",
      "shape of matrix:  (100, 1000)\n",
      "number of elements:  100000\n",
      "number of dimensions:  2\n"
     ]
    }
   ],
   "source": [
    "print(movie_matrix)\n",
    "print(\"shape of matrix: \",movie_matrix.shape)\n",
    "print(\"number of elements: \",movie_matrix.size)\n",
    "print(\"number of dimensions: \",movie_matrix.ndim)"
   ]
  },
  {
   "cell_type": "code",
   "execution_count": 65,
   "id": "3c96cc55",
   "metadata": {},
   "outputs": [
    {
     "name": "stdout",
     "output_type": "stream",
     "text": [
      "[[-1 -1 -1 ... -1 -1  3]\n",
      " [-1 -1 -1 ... -1 -1  5]\n",
      " [-1 -1 -1 ... -1 -1  6]\n",
      " ...\n",
      " [-1 -1 -1 ... -1 -1  9]\n",
      " [-1 -1 -1 ... -1 -1  7]\n",
      " [-1 -1 -1 ... -1 -1 10]]\n",
      "Shape of matrix:    (10, 1000)\n"
     ]
    }
   ],
   "source": [
    "# Reviews of 10 movie_experts, vertical wise:\n",
    "expert_reviews=[]\n",
    "for user in range(10):\n",
    "    movie_rated_by_me=np.full(1000,-1)\n",
    "    num_movie_rated=random.randint(0,999)\n",
    "    movies_that_rate=random.sample(range(0,1000),num_movie_rated)\n",
    "    for index in movie_rated_by_me:\n",
    "        movie_rated_by_me[index]=random.randint(0,10)\n",
    "    expert_reviews.append(movie_rated_by_me)\n",
    "expert_reviews=np.array(expert_reviews)\n",
    "print(expert_reviews)\n",
    "print(\"Shape of matrix:   \",expert_reviews.shape)\n",
    "    "
   ]
  },
  {
   "cell_type": "code",
   "execution_count": 66,
   "id": "052672ae",
   "metadata": {},
   "outputs": [
    {
     "data": {
      "text/plain": [
       "(110, 1000)"
      ]
     },
     "execution_count": 66,
     "metadata": {},
     "output_type": "execute_result"
    }
   ],
   "source": [
    "#adding expert reviews with original reviews:\n",
    "movie_matrix=np.vstack([movie_matrix,expert_reviews])\n",
    "movie_matrix.shape"
   ]
  },
  {
   "cell_type": "code",
   "execution_count": 69,
   "id": "17a8d67f",
   "metadata": {},
   "outputs": [
    {
     "name": "stdout",
     "output_type": "stream",
     "text": [
      "(110, 50)\n"
     ]
    },
    {
     "data": {
      "text/plain": [
       "array([[-1, -1, -1, ..., -1, -1, -1],\n",
       "       [-1, -1, -1, ..., -1, -1, -1],\n",
       "       [-1, -1, -1, ..., -1, -1, -1],\n",
       "       ...,\n",
       "       [-1, -1, -1, ..., -1, -1, -1],\n",
       "       [-1, -1, -1, ..., -1, -1, -1],\n",
       "       [-1, -1, -1, ..., -1, -1, -1]])"
      ]
     },
     "execution_count": 69,
     "metadata": {},
     "output_type": "execute_result"
    }
   ],
   "source": [
    "# adding new movies in matrix horizontal wise\n",
    "new_movie_matrix=[]\n",
    "for user in range(len(movie_matrix)):\n",
    "    movie_rated_by_me=np.full(50,-1)\n",
    "    num_movie_rated=random.randint(0,49)\n",
    "    random.seed(num_movie_rated)\n",
    "    movies_that_rate=random.sample(range(0,50),num_movie_rated)\n",
    "    for index in movies_that_rate:\n",
    "        movie_rated_by_me[index]=random.randint(0,10)\n",
    "    new_movie_matrix.append(movie_rated_by_me)\n",
    "new_movie_matrix=np.array(new_movie_matrix)\n",
    "print(new_movie_matrix.shape)\n",
    "new_movie_matrix"
   ]
  },
  {
   "cell_type": "code",
   "execution_count": 70,
   "id": "405c59ca",
   "metadata": {},
   "outputs": [
    {
     "data": {
      "text/plain": [
       "(110, 1050)"
      ]
     },
     "execution_count": 70,
     "metadata": {},
     "output_type": "execute_result"
    }
   ],
   "source": [
    "movie_matrix=np.hstack([movie_matrix,new_movie_matrix])\n",
    "movie_matrix.shape"
   ]
  },
  {
   "cell_type": "code",
   "execution_count": 71,
   "id": "fabaa470",
   "metadata": {},
   "outputs": [
    {
     "data": {
      "text/plain": [
       "1050"
      ]
     },
     "execution_count": 71,
     "metadata": {},
     "output_type": "execute_result"
    }
   ],
   "source": [
    "# generatiing new ids:\n",
    "new_movie_ids=np.append(movie_id,np.arange(2301,2351))\n",
    "new_movie_ids.size"
   ]
  },
  {
   "cell_type": "code",
   "execution_count": 72,
   "id": "1f722e47",
   "metadata": {},
   "outputs": [],
   "source": [
    "final_movie_ratings=[]\n",
    "for i in range(len(new_movie_ids)):\n",
    "    m=movie_matrix[:,i]#all rows and ith columns\n",
    "    m=m[m>0]\n",
    "    total_rate=m.sum()\n",
    "    total_num_rating=m.size\n",
    "    rating=m.mean()\n",
    "    std=m.std()\n",
    "    final_movie_ratings.append([new_movie_ids[i],rating,total_num_rating,std])\n",
    "final_movie_ratings=np.array(final_movie_ratings)"
   ]
  },
  {
   "cell_type": "code",
   "execution_count": 73,
   "id": "e0fa30fd",
   "metadata": {},
   "outputs": [
    {
     "data": {
      "text/plain": [
       "array([[1301.        ,    5.36170213,   47.        ,    2.79380418],\n",
       "       [1302.        ,    5.68      ,   50.        ,    2.91506432],\n",
       "       [1303.        ,    5.92307692,   39.        ,    2.57587043],\n",
       "       ...,\n",
       "       [2348.        ,           nan,    0.        ,           nan],\n",
       "       [2349.        ,           nan,    0.        ,           nan],\n",
       "       [2350.        ,           nan,    0.        ,           nan]])"
      ]
     },
     "execution_count": 73,
     "metadata": {},
     "output_type": "execute_result"
    }
   ],
   "source": [
    "final_movie_ratings"
   ]
  },
  {
   "cell_type": "code",
   "execution_count": 74,
   "id": "529e0c02",
   "metadata": {},
   "outputs": [],
   "source": [
    "#\n",
    "x=final_movie_ratings[:,1]\n",
    "old_range=x.max()-x.min()\n",
    "new_range=(10-0)\n",
    "final_movie_ratings[:,1]=(x-x.min())*(new_range/old_range)+0"
   ]
  },
  {
   "cell_type": "code",
   "execution_count": 76,
   "id": "8f69f2fe",
   "metadata": {},
   "outputs": [
    {
     "data": {
      "text/plain": [
       "array([[1301.        ,           nan,   47.        ,    2.79380418],\n",
       "       [1302.        ,           nan,   50.        ,    2.91506432],\n",
       "       [1303.        ,           nan,   39.        ,    2.57587043],\n",
       "       ...,\n",
       "       [2348.        ,           nan,    0.        ,           nan],\n",
       "       [2349.        ,           nan,    0.        ,           nan],\n",
       "       [2350.        ,           nan,    0.        ,           nan]])"
      ]
     },
     "metadata": {},
     "output_type": "display_data"
    },
    {
     "data": {
      "text/plain": [
       "(1050, 4)"
      ]
     },
     "metadata": {},
     "output_type": "display_data"
    }
   ],
   "source": [
    "display(final_movie_ratings)\n",
    "display(final_movie_ratings.shape)"
   ]
  },
  {
   "cell_type": "code",
   "execution_count": 78,
   "id": "ef7a58ac",
   "metadata": {},
   "outputs": [
    {
     "data": {
      "text/plain": [
       "array([[2350.        ,           nan,    0.        ,           nan],\n",
       "       [1661.        ,           nan,   48.        ,    2.65230508],\n",
       "       [1659.        ,           nan,   49.        ,    2.8854285 ],\n",
       "       ...,\n",
       "       [1993.        ,           nan,   43.        ,    2.9072558 ],\n",
       "       [1992.        ,           nan,   47.        ,    2.78666553],\n",
       "       [1301.        ,           nan,   47.        ,    2.79380418]])"
      ]
     },
     "execution_count": 78,
     "metadata": {},
     "output_type": "execute_result"
    }
   ],
   "source": [
    "sorted_films=final_movie_ratings[final_movie_ratings[:,1].argsort()[::-1]]"
   ]
  },
  {
   "cell_type": "code",
   "execution_count": 79,
   "id": "c8dbf554",
   "metadata": {},
   "outputs": [
    {
     "data": {
      "text/plain": [
       "array([[2350.        ,           nan,    0.        ,           nan],\n",
       "       [1661.        ,           nan,   48.        ,    2.65230508],\n",
       "       [1659.        ,           nan,   49.        ,    2.8854285 ],\n",
       "       ...,\n",
       "       [1993.        ,           nan,   43.        ,    2.9072558 ],\n",
       "       [1992.        ,           nan,   47.        ,    2.78666553],\n",
       "       [1301.        ,           nan,   47.        ,    2.79380418]])"
      ]
     },
     "metadata": {},
     "output_type": "display_data"
    }
   ],
   "source": [
    "display(sorted_films)"
   ]
  },
  {
   "cell_type": "code",
   "execution_count": 82,
   "id": "2ee1f598",
   "metadata": {},
   "outputs": [],
   "source": [
    "np.savetxt(\"ranked_movie_data.csv\",sorted_films,delimiter=',')"
   ]
  },
  {
   "cell_type": "code",
   "execution_count": 84,
   "id": "c084cbec",
   "metadata": {},
   "outputs": [
    {
     "data": {
      "text/plain": [
       "array([[2350.        ,           nan,    0.        ,           nan],\n",
       "       [1661.        ,           nan,   48.        ,    2.65230508],\n",
       "       [1659.        ,           nan,   49.        ,    2.8854285 ],\n",
       "       ...,\n",
       "       [1993.        ,           nan,   43.        ,    2.9072558 ],\n",
       "       [1992.        ,           nan,   47.        ,    2.78666553],\n",
       "       [1301.        ,           nan,   47.        ,    2.79380418]])"
      ]
     },
     "execution_count": 84,
     "metadata": {},
     "output_type": "execute_result"
    }
   ],
   "source": [
    "data=np.genfromtxt(\"ranked_movie_data.csv\",delimiter=',')\n",
    "data"
   ]
  },
  {
   "cell_type": "code",
   "execution_count": null,
   "id": "d0aaa647",
   "metadata": {},
   "outputs": [],
   "source": []
  }
 ],
 "metadata": {
  "kernelspec": {
   "display_name": "Python 3 (ipykernel)",
   "language": "python",
   "name": "python3"
  },
  "language_info": {
   "codemirror_mode": {
    "name": "ipython",
    "version": 3
   },
   "file_extension": ".py",
   "mimetype": "text/x-python",
   "name": "python",
   "nbconvert_exporter": "python",
   "pygments_lexer": "ipython3",
   "version": "3.10.9"
  }
 },
 "nbformat": 4,
 "nbformat_minor": 5
}
